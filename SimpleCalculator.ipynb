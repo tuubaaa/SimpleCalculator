{
 "cells": [
  {
   "cell_type": "code",
   "execution_count": 3,
   "id": "b11f50d2",
   "metadata": {},
   "outputs": [],
   "source": [
    "from tkinter import *\n"
   ]
  },
  {
   "cell_type": "code",
   "execution_count": 4,
   "id": "ca232663",
   "metadata": {},
   "outputs": [],
   "source": [
    "def write(x):\n",
    "    s = len(entrance.get())\n",
    "    entrance.insert(s,str(x))\n",
    "    "
   ]
  },
  {
   "cell_type": "code",
   "execution_count": 5,
   "id": "136bde6e",
   "metadata": {},
   "outputs": [],
   "source": [
    "calculation = 5\n",
    "s1 = 0"
   ]
  },
  {
   "cell_type": "code",
   "execution_count": 6,
   "id": "c7279f3e",
   "metadata": {},
   "outputs": [],
   "source": [
    "def operations(x):\n",
    "    global calculation\n",
    "    calculation = x\n",
    "    global s1\n",
    "    s1 = float(entrance.get())\n",
    "    print(calculation)\n",
    "    print(s1)\n",
    "    entrance.delete(0,'end')\n",
    "    "
   ]
  },
  {
   "cell_type": "code",
   "execution_count": 7,
   "id": "fa1a3d14",
   "metadata": {},
   "outputs": [],
   "source": [
    "s2 = 0"
   ]
  },
  {
   "cell_type": "code",
   "execution_count": 8,
   "id": "61e20c25",
   "metadata": {},
   "outputs": [],
   "source": [
    "def calculate():\n",
    "    global s2\n",
    "    s2 = float(entrance.get())\n",
    "    print(s2)\n",
    "    global calculation\n",
    "    conclusion= 0\n",
    "    if(calculation==0):\n",
    "        conclusion = s1 + s2\n",
    "    elif(calculation==1):\n",
    "        conclusion = s1 - s2\n",
    "    elif(calculation==1):\n",
    "        conclusion = s1 * s2\n",
    "    elif(calculation==1):\n",
    "        conclusion = s1 / s2\n",
    "    entrance.delete(0,'end')\n",
    "    entrance.insert(0,str(conclusion))\n",
    "        "
   ]
  },
  {
   "cell_type": "code",
   "execution_count": 9,
   "id": "93c90b1e",
   "metadata": {},
   "outputs": [
    {
     "data": {
      "text/plain": [
       "''"
      ]
     },
     "execution_count": 9,
     "metadata": {},
     "output_type": "execute_result"
    }
   ],
   "source": [
    "main = Tk()\n",
    "main.geometry(\"250x300\")"
   ]
  },
  {
   "cell_type": "code",
   "execution_count": 10,
   "id": "ee86759f",
   "metadata": {},
   "outputs": [],
   "source": [
    "entrance = Entry(font=\"Verdana 14 bold\",width=15,justify=RIGHT)\n",
    "entrance.place(x=20,y=20)"
   ]
  },
  {
   "cell_type": "code",
   "execution_count": 11,
   "id": "0cec097e",
   "metadata": {},
   "outputs": [],
   "source": [
    "b = []"
   ]
  },
  {
   "cell_type": "code",
   "execution_count": 12,
   "id": "21be4261",
   "metadata": {},
   "outputs": [],
   "source": [
    "for i in range(1,10):\n",
    "    b.append(Button(text=str(i),font=\"Verdana 14 bold\",command=lambda x=i:yaz(x)))"
   ]
  },
  {
   "cell_type": "code",
   "execution_count": 13,
   "id": "515aa133",
   "metadata": {},
   "outputs": [],
   "source": [
    "counter=0"
   ]
  },
  {
   "cell_type": "code",
   "execution_count": 14,
   "id": "2177e60d",
   "metadata": {},
   "outputs": [],
   "source": [
    "for i in range(0,3):\n",
    "    for j in range(0,3):\n",
    "        b[counter].place(x=20+j*50,y=50+i*50)\n",
    "        counter += 1"
   ]
  },
  {
   "cell_type": "code",
   "execution_count": 16,
   "id": "f1747dc1",
   "metadata": {},
   "outputs": [],
   "source": [
    "operation = []"
   ]
  },
  {
   "cell_type": "code",
   "execution_count": 17,
   "id": "58f8550a",
   "metadata": {},
   "outputs": [],
   "source": [
    "for i in range(0,4):\n",
    "    operation.append(Button(font=\"Verdana 14 bold\",width=2,command=lambda x=i:operations(x)))"
   ]
  },
  {
   "cell_type": "code",
   "execution_count": 18,
   "id": "10f7eed4",
   "metadata": {},
   "outputs": [],
   "source": [
    "operation[0]['text'] = \"+\"\n",
    "operation[1]['text'] = \"-\"\n",
    "operation[2]['text'] = \"x\"\n",
    "operation[3]['text'] = \"/\""
   ]
  },
  {
   "cell_type": "code",
   "execution_count": 19,
   "id": "ac9a6522",
   "metadata": {},
   "outputs": [],
   "source": [
    "for i in range(0,4):\n",
    "    operation[i].place(x=170,y=50+50*i)"
   ]
  },
  {
   "cell_type": "code",
   "execution_count": 20,
   "id": "ee3ec382",
   "metadata": {},
   "outputs": [],
   "source": [
    "sb = Button(text=\"0\",font=\"Verdana 14 bold\",command=lambda x=0:yaz(x))\n",
    "sb.place(x=20,y=200)"
   ]
  },
  {
   "cell_type": "code",
   "execution_count": 24,
   "id": "f62d9e33",
   "metadata": {},
   "outputs": [],
   "source": [
    "nb = Button(text=\".\",font=\"Verdana 14 bold\",width=2,command=lambda x=\".\":write(x))\n",
    "nb.place(x=70,y=200)"
   ]
  },
  {
   "cell_type": "code",
   "execution_count": 25,
   "id": "eea4e22a",
   "metadata": {},
   "outputs": [],
   "source": [
    "eb = Button(text=\"=\",fg =\"BLUE\",font=\"Verdana 14 bold\",command=calculate)\n",
    "eb.place(x=120,y=200)"
   ]
  },
  {
   "cell_type": "code",
   "execution_count": 29,
   "id": "e0964508",
   "metadata": {},
   "outputs": [],
   "source": [
    "main.mainloop()"
   ]
  },
  {
   "cell_type": "code",
   "execution_count": null,
   "id": "eedc8a13",
   "metadata": {},
   "outputs": [],
   "source": []
  }
 ],
 "metadata": {
  "kernelspec": {
   "display_name": "Python 3 (ipykernel)",
   "language": "python",
   "name": "python3"
  },
  "language_info": {
   "codemirror_mode": {
    "name": "ipython",
    "version": 3
   },
   "file_extension": ".py",
   "mimetype": "text/x-python",
   "name": "python",
   "nbconvert_exporter": "python",
   "pygments_lexer": "ipython3",
   "version": "3.11.4"
  }
 },
 "nbformat": 4,
 "nbformat_minor": 5
}
